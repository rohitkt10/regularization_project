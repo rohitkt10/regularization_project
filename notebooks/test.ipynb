{
 "cells": [
  {
   "cell_type": "code",
   "execution_count": 1,
   "metadata": {},
   "outputs": [],
   "source": [
    "import h5py, numpy as np, os, sys\n",
    "sys.path.append(\"..\")\n",
    "\n",
    "from src.utils import _get_synthetic_data\n",
    "from src.model_zoo import deep_cnn, shallow_cnn\n",
    "from src.models import ManifoldMixupModel, _Model\n",
    "\n",
    "import tensorflow as tf\n",
    "from tensorflow import keras as tfk\n",
    "from tensorflow.keras import callbacks as tfkc\n",
    "from tensorflow_probability import distributions as tfd\n",
    "\n",
    "from logomaker import Logo\n",
    "import pandas as pd\n",
    "import tfomics\n",
    "from tfomics import impress, evaluate, explain\n",
    "\n",
    "import inspect \n",
    "from inspect import getargspec\n",
    "\n",
    "import matplotlib.pyplot as plt\n",
    "%load_ext autoreload\n",
    "%autoreload 2"
   ]
  },
  {
   "cell_type": "code",
   "execution_count": 10,
   "metadata": {},
   "outputs": [
    {
     "data": {
      "image/png": "[encoded data removed]",
      "text/plain": [
       "<Figure size 432x288 with 1 Axes>"
      ]
     },
     "metadata": {
      "needs_background": "light"
     },
     "output_type": "display_data"
    }
   ],
   "source": [
    "alpha = 0.2\n",
    "lam = tfd.Beta(alpha, alpha)\n",
    "xs = lam.sample(1000).numpy()\n",
    "plt.hist(xs, bins=50);"
   ]
  },
  {
   "cell_type": "code",
   "execution_count": 2,
   "metadata": {},
   "outputs": [],
   "source": [
    "(x_train, y_train), (x_valid, y_valid), (x_test, y_test), model_test = _get_synthetic_data(\"../data/\")"
   ]
  },
  {
   "cell_type": "code",
   "execution_count": 22,
   "metadata": {},
   "outputs": [],
   "source": [
    "class ManifoldMixupModel(_Model):\n",
    "    \"\"\"\n",
    "    Manifold mixup is a generalization of the input mixup regularization scheme where \n",
    "    intermediate layer representations are mixed up rather than just the input layer\n",
    "    \"\"\"\n",
    "    def __init__(self, model, ks, alpha=1.,name=\"mixup_model\"):\n",
    "        \"\"\"\n",
    "        ks -> List of layer activation indices to use for manifold mixup.\n",
    "        \"\"\"\n",
    "        super().__init__(model=model, name=name)\n",
    "        self.lam_dist = tfd.Beta(alpha, alpha)\n",
    "        self.ks = ks\n",
    "    \n",
    "    def fit(self, *args, **kwargs):\n",
    "        if not self.run_eagerly:\n",
    "            print(\"WARNING: This model can only be run in eager mode.Switching run_eagerly property...\")\n",
    "            self.run_eagerly = False\n",
    "        return super().fit(*args, **kwargs)\n",
    "\n",
    "    def train_step(self, data):\n",
    "        x, y = data\n",
    "        k = np.random.randint(0, len(self.ks)) ## pick a random layer index\n",
    "        lam = self.lam_dist.sample()  # sample a mixing coefficient \n",
    "        idxs = tf.random.shuffle(tf.range(tf.shape(x)[0])) # shuffled indices \n",
    "        xp, yp = tf.gather(x, idxs, axis=0), tf.gather(y, idxs, axis=0) ## shuffled batch\n",
    "        ym = lam*y + (1-lam)*yp ## mixup the labels\n",
    "\n",
    "        # record differentiable ops\n",
    "        with tf.GradientTape() as tape:\n",
    "            y_pred, ym_pred = x, xp\n",
    "            for i, layer in enumerate(self.model.layers):\n",
    "                y_pred = layer(y_pred, training=True)\n",
    "                ym_pred = layer(ym_pred, training=True)\n",
    "                if i == k:\n",
    "                    ym_pred = lam*y_pred + (1-lam)*ym_pred # mixup the representation at the kth layer\n",
    "            \n",
    "            # stack the original minibatch to create augmented minibatch and calculate loss\n",
    "            y_aug = tf.concat([y, ym], axis=0)\n",
    "            y_pred_aug = tf.concat([y_pred, ym_pred], axis=0)\n",
    "            loss = self.compiled_loss(y_aug, y_pred_aug, regularization_losses=self.losses)\n",
    "            print(y_aug.shape, y_pred_aug.shape)\n",
    "\n",
    "        # Compute gradients and take optimization step\n",
    "        trainable_vars = self.model.trainable_variables\n",
    "        gradients = tape.gradient(loss, trainable_vars)\n",
    "        self.optimizer.apply_gradients(zip(gradients, trainable_vars))\n",
    "\n",
    "        # finish up\n",
    "        self.compiled_metrics.update_state(y, y_pred)\n",
    "        return {m.name: m.result() for m in self.metrics}"
   ]
  },
  {
   "cell_type": "code",
   "execution_count": 23,
   "metadata": {},
   "outputs": [],
   "source": [
    "model = shallow_cnn.get_model(dropout1=0.1, dropout2=0.5, bn=True)\n",
    "ks = [0]\n",
    "for i, layer in enumerate(model.layers):\n",
    "    if 'activation' in layer.name:\n",
    "        if layer.activation.__name__ != 'linear':\n",
    "            ks.append(i)\n",
    "model = ManifoldMixupModel(model=model, ks=ks, alpha=0.1)"
   ]
  },
  {
   "cell_type": "code",
   "execution_count": 24,
   "metadata": {},
   "outputs": [],
   "source": [
    "model.compile(\n",
    "            optimizer=tfk.optimizers.Adam(1e-3), \n",
    "            loss=tfk.losses.BinaryCrossentropy(), \n",
    "            metrics=[tfk.metrics.AUC(curve='ROC', name='auroc')]\n",
    "                )"
   ]
  },
  {
   "cell_type": "code",
   "execution_count": 25,
   "metadata": {
    "scrolled": false
   },
   "outputs": [
    {
     "name": "stdout",
     "output_type": "stream",
     "text": [
      "WARNING: This model can only be run in eager mode.Switching run_eagerly property...\n",
      "Epoch 1/50\n",
      "WARNING:tensorflow:@custom_gradient grad_fn has 'variables' in signature, but no ResourceVariables were used on the forward pass.\n",
      "WARNING:tensorflow:@custom_gradient grad_fn has 'variables' in signature, but no ResourceVariables were used on the forward pass.\n",
      "(None, 1) (None, 1)\n",
      "WARNING:tensorflow:@custom_gradient grad_fn has 'variables' in signature, but no ResourceVariables were used on the forward pass.\n",
      "WARNING:tensorflow:@custom_gradient grad_fn has 'variables' in signature, but no ResourceVariables were used on the forward pass.\n",
      "(None, 1) (None, 1)\n",
      "438/438 [==============================] - 5s 9ms/step - loss: 0.6346 - auroc: 0.7325 - val_loss: 0.4672 - val_auroc: 0.8651\n",
      "Epoch 2/50\n",
      "438/438 [==============================] - 4s 9ms/step - loss: 0.4731 - auroc: 0.8700 - val_loss: 0.3981 - val_auroc: 0.9058\n",
      "Epoch 3/50\n",
      "438/438 [==============================] - 4s 9ms/step - loss: 0.4165 - auroc: 0.9040 - val_loss: 0.3676 - val_auroc: 0.9210\n",
      "Epoch 4/50\n",
      "438/438 [==============================] - 4s 9ms/step - loss: 0.3851 - auroc: 0.9217 - val_loss: 0.4370 - val_auroc: 0.9301\n",
      "Epoch 5/50\n",
      "438/438 [==============================] - 4s 9ms/step - loss: 0.3706 - auroc: 0.9318 - val_loss: 0.3703 - val_auroc: 0.9366\n",
      "Epoch 6/50\n",
      "438/438 [==============================] - 4s 9ms/step - loss: 0.3499 - auroc: 0.9391 - val_loss: 0.3289 - val_auroc: 0.9391\n",
      "Epoch 7/50\n",
      "438/438 [==============================] - 4s 9ms/step - loss: 0.3390 - auroc: 0.9442 - val_loss: 0.3294 - val_auroc: 0.9426\n",
      "Epoch 8/50\n",
      "438/438 [==============================] - 4s 9ms/step - loss: 0.3295 - auroc: 0.9485 - val_loss: 0.3126 - val_auroc: 0.9474\n",
      "Epoch 9/50\n",
      "438/438 [==============================] - 4s 9ms/step - loss: 0.3175 - auroc: 0.9506 - val_loss: 0.3559 - val_auroc: 0.9474\n",
      "Epoch 10/50\n",
      "438/438 [==============================] - 4s 9ms/step - loss: 0.3046 - auroc: 0.9554 - val_loss: 0.3058 - val_auroc: 0.9534\n",
      "Epoch 11/50\n",
      "438/438 [==============================] - 4s 9ms/step - loss: 0.3051 - auroc: 0.9581 - val_loss: 0.3510 - val_auroc: 0.9538\n",
      "Epoch 12/50\n",
      "438/438 [==============================] - 4s 9ms/step - loss: 0.2998 - auroc: 0.9594 - val_loss: 0.3113 - val_auroc: 0.9526\n",
      "Epoch 13/50\n",
      "438/438 [==============================] - 4s 10ms/step - loss: 0.2960 - auroc: 0.9595 - val_loss: 0.2865 - val_auroc: 0.9555\n",
      "Epoch 14/50\n",
      "438/438 [==============================] - 4s 9ms/step - loss: 0.2848 - auroc: 0.9636 - val_loss: 0.2743 - val_auroc: 0.9554\n",
      "Epoch 15/50\n",
      "438/438 [==============================] - 4s 9ms/step - loss: 0.2896 - auroc: 0.9636 - val_loss: 0.2996 - val_auroc: 0.9578\n",
      "Epoch 16/50\n",
      "438/438 [==============================] - 4s 9ms/step - loss: 0.2834 - auroc: 0.9635 - val_loss: 0.2735 - val_auroc: 0.9572\n",
      "Epoch 17/50\n",
      "438/438 [==============================] - 4s 9ms/step - loss: 0.2742 - auroc: 0.9665 - val_loss: 0.2610 - val_auroc: 0.9592\n",
      "Epoch 18/50\n",
      "438/438 [==============================] - 4s 9ms/step - loss: 0.2827 - auroc: 0.9662 - val_loss: 0.2744 - val_auroc: 0.9576\n",
      "Epoch 19/50\n",
      "438/438 [==============================] - 4s 9ms/step - loss: 0.2795 - auroc: 0.9686 - val_loss: 0.3182 - val_auroc: 0.9591\n",
      "Epoch 20/50\n",
      "438/438 [==============================] - 4s 9ms/step - loss: 0.2685 - auroc: 0.9685 - val_loss: 0.2664 - val_auroc: 0.9593\n",
      "Epoch 21/50\n",
      "438/438 [==============================] - 4s 9ms/step - loss: 0.2738 - auroc: 0.9694 - val_loss: 0.2712 - val_auroc: 0.9598\n",
      "Epoch 22/50\n",
      "438/438 [==============================] - 4s 9ms/step - loss: 0.2654 - auroc: 0.9699 - val_loss: 0.2759 - val_auroc: 0.9595\n",
      "Epoch 23/50\n",
      "438/438 [==============================] - 4s 9ms/step - loss: 0.2649 - auroc: 0.9729 - val_loss: 0.3007 - val_auroc: 0.9577\n",
      "Epoch 24/50\n",
      "438/438 [==============================] - 4s 9ms/step - loss: 0.2672 - auroc: 0.9708 - val_loss: 0.2705 - val_auroc: 0.9593\n",
      "Epoch 25/50\n",
      "438/438 [==============================] - 4s 9ms/step - loss: 0.2565 - auroc: 0.9729 - val_loss: 0.2719 - val_auroc: 0.9597\n",
      "Epoch 26/50\n",
      "438/438 [==============================] - 4s 9ms/step - loss: 0.2560 - auroc: 0.9739 - val_loss: 0.2826 - val_auroc: 0.9578\n",
      "Epoch 27/50\n",
      "438/438 [==============================] - 4s 9ms/step - loss: 0.2630 - auroc: 0.9731 - val_loss: 0.2676 - val_auroc: 0.9573\n",
      "Epoch 28/50\n",
      "438/438 [==============================] - 4s 10ms/step - loss: 0.2552 - auroc: 0.9741 - val_loss: 0.2961 - val_auroc: 0.9619\n",
      "Epoch 29/50\n",
      "438/438 [==============================] - 4s 9ms/step - loss: 0.2497 - auroc: 0.9742 - val_loss: 0.2513 - val_auroc: 0.9624\n",
      "Epoch 30/50\n",
      "438/438 [==============================] - 4s 9ms/step - loss: 0.2531 - auroc: 0.9749 - val_loss: 0.2634 - val_auroc: 0.9600\n",
      "Epoch 31/50\n",
      "438/438 [==============================] - 4s 9ms/step - loss: 0.2467 - auroc: 0.9750 - val_loss: 0.3417 - val_auroc: 0.9577\n",
      "Epoch 32/50\n",
      "438/438 [==============================] - 4s 9ms/step - loss: 0.2422 - auroc: 0.9762 - val_loss: 0.2880 - val_auroc: 0.9573\n",
      "Epoch 33/50\n",
      "438/438 [==============================] - 4s 9ms/step - loss: 0.2450 - auroc: 0.9764 - val_loss: 0.2617 - val_auroc: 0.9587\n",
      "Epoch 34/50\n",
      "438/438 [==============================] - 4s 9ms/step - loss: 0.2410 - auroc: 0.9760 - val_loss: 0.3336 - val_auroc: 0.9564\n",
      "Epoch 35/50\n",
      "438/438 [==============================] - 4s 9ms/step - loss: 0.2455 - auroc: 0.9772 - val_loss: 0.3151 - val_auroc: 0.9544\n",
      "Epoch 36/50\n",
      "438/438 [==============================] - 4s 9ms/step - loss: 0.2532 - auroc: 0.9764 - val_loss: 0.2601 - val_auroc: 0.9590\n",
      "Epoch 37/50\n",
      "438/438 [==============================] - 4s 9ms/step - loss: 0.2468 - auroc: 0.9778 - val_loss: 0.2803 - val_auroc: 0.9566\n",
      "Epoch 38/50\n",
      "438/438 [==============================] - 4s 9ms/step - loss: 0.2345 - auroc: 0.9782 - val_loss: 0.3215 - val_auroc: 0.9563\n",
      "Epoch 39/50\n",
      "438/438 [==============================] - 4s 10ms/step - loss: 0.2377 - auroc: 0.9783 - val_loss: 0.2702 - val_auroc: 0.9564\n",
      "Epoch 40/50\n",
      "438/438 [==============================] - 4s 10ms/step - loss: 0.2421 - auroc: 0.9783 - val_loss: 0.2844 - val_auroc: 0.9575\n",
      "Epoch 41/50\n",
      "438/438 [==============================] - 4s 9ms/step - loss: 0.2501 - auroc: 0.9775 - val_loss: 0.2609 - val_auroc: 0.9593\n",
      "Epoch 42/50\n",
      "438/438 [==============================] - 4s 10ms/step - loss: 0.2328 - auroc: 0.9795 - val_loss: 0.2755 - val_auroc: 0.9575\n",
      "Epoch 43/50\n",
      "438/438 [==============================] - 4s 9ms/step - loss: 0.2327 - auroc: 0.9786 - val_loss: 0.2732 - val_auroc: 0.9593\n",
      "Epoch 44/50\n",
      "438/438 [==============================] - 4s 10ms/step - loss: 0.2297 - auroc: 0.9790 - val_loss: 0.3075 - val_auroc: 0.9540\n",
      "Epoch 45/50\n",
      "438/438 [==============================] - 4s 10ms/step - loss: 0.2306 - auroc: 0.9804 - val_loss: 0.4208 - val_auroc: 0.9564\n",
      "Epoch 46/50\n",
      "438/438 [==============================] - 4s 10ms/step - loss: 0.2264 - auroc: 0.9800 - val_loss: 0.2684 - val_auroc: 0.9557\n",
      "Epoch 47/50\n",
      "438/438 [==============================] - 4s 10ms/step - loss: 0.2243 - auroc: 0.9817 - val_loss: 0.2686 - val_auroc: 0.9581\n",
      "Epoch 48/50\n",
      "438/438 [==============================] - 4s 10ms/step - loss: 0.2352 - auroc: 0.9804 - val_loss: 0.2597 - val_auroc: 0.9585\n",
      "Epoch 49/50\n",
      "438/438 [==============================] - 4s 10ms/step - loss: 0.2306 - auroc: 0.9805 - val_loss: 0.3150 - val_auroc: 0.9549\n",
      "Epoch 50/50\n",
      "438/438 [==============================] - 4s 10ms/step - loss: 0.2310 - auroc: 0.9815 - val_loss: 0.2928 - val_auroc: 0.9578\n"
     ]
    },
    {
     "data": {
      "text/plain": [
       "<keras.callbacks.History at 0x7f14f43e7460>"
      ]
     },
     "execution_count": 25,
     "metadata": {},
     "output_type": "execute_result"
    }
   ],
   "source": [
    "model.fit(x_train, y_train, epochs=50, validation_data=(x_valid, y_valid), batch_size=32)"
   ]
  },
  {
   "cell_type": "code",
   "execution_count": 29,
   "metadata": {},
   "outputs": [
    {
     "name": "stdout",
     "output_type": "stream",
     "text": [
      "125/125 [==============================] - 0s 2ms/step - loss: 0.2791 - auroc: 0.9634\n"
     ]
    },
    {
     "data": {
      "text/plain": [
       "[0.2791157364845276, 0.9633976221084595]"
      ]
     },
     "execution_count": 29,
     "metadata": {},
     "output_type": "execute_result"
    }
   ],
   "source": [
    "# test model \n",
    "model.evaluate(x_test, y_test)"
   ]
  },
  {
   "cell_type": "code",
   "execution_count": 30,
   "metadata": {},
   "outputs": [],
   "source": [
    "# get positive label sequences and sequence model\n",
    "pos_index = np.where(y_test[:,0] == 1)[0]   \n",
    "\n",
    "num_analyze = len(pos_index)\n",
    "X = x_test[pos_index[:num_analyze]]\n",
    "X_model = model_test[pos_index[:num_analyze]]\n",
    "\n",
    "# instantiate explainer class\n",
    "explainer = tfomics.explain.Explainer(model, class_index=0)\n",
    "\n",
    "# calculate attribution maps\n",
    "#mutagenesis_scores = explainer.mutagenesis(X, class_index=None)\n",
    "saliency_scores = explainer.saliency_maps(X)\n",
    "smoothgrad_scores = explainer.smoothgrad(X, num_samples=50, mean=0.0, stddev=0.1)\n",
    "#intgrad_scores = explainer.integrated_grad(X, baseline_type='zeros')\n",
    "#expintgrad_scores = explainer.expected_integrated_grad(X, num_baseline=50, baseline_type='random')\n",
    "\n",
    "# reduce attribution maps to 1D scores\n",
    "#mut_scores = tfomics.explain.l2_norm(mutagenesis_scores)\n",
    "sal_scores = tfomics.explain.grad_times_input(X, saliency_scores)\n",
    "sg_scores = tfomics.explain.grad_times_input(X, smoothgrad_scores)\n",
    "#int_scores = tfomics.explain.grad_times_input(X, intgrad_scores)\n",
    "#expint_scores = tfomics.explain.grad_times_input(X, expintgrad_scores)"
   ]
  },
  {
   "cell_type": "code",
   "execution_count": 31,
   "metadata": {},
   "outputs": [],
   "source": [
    "# compare distribution of attribution scores at positions with and without motifs\n",
    "threshold = 0.1\n",
    "#mutagenesis_roc, mutagenesis_pr = tfomics.evaluate.interpretability_performance(mut_scores, X_model, threshold)\n",
    "saliency_roc, saliency_pr = tfomics.evaluate.interpretability_performance(sal_scores, X_model, threshold)\n",
    "smoothgrad_roc, smoothgrad_pr = tfomics.evaluate.interpretability_performance(sg_scores, X_model, threshold)\n",
    "#intgrad_roc, intgrad_pr = tfomics.evaluate.interpretability_performance(int_scores, X_model, threshold)\n",
    "#expintgrad_roc, expintgrad_pr = tfomics.evaluate.interpretability_performance(expint_scores, X_model, threshold)"
   ]
  },
  {
   "cell_type": "code",
   "execution_count": 34,
   "metadata": {},
   "outputs": [
    {
     "data": {
      "image/png": "[encoded data removed]",
      "text/plain": [
       "<Figure size 1008x288 with 2 Axes>"
      ]
     },
     "metadata": {
      "needs_background": "light"
     },
     "output_type": "display_data"
    }
   ],
   "source": [
    "scores = [saliency_roc, smoothgrad_roc]\n",
    "names = ['Saliency', 'SmoothGrad', ]\n",
    "\n",
    "fig = plt.figure(figsize=(14,4))  \n",
    "ax = plt.subplot(1,2,1)\n",
    "ax = tfomics.impress.box_violin_plot(scores, ylabel='AUROC', xlabel=names)\n",
    "plt.yticks([0.6, 0.7, 0.8, 0.9, 1.0], fontsize=12)\n",
    "ax.set_ybound([.55,1.05])\n",
    "#ax.tick_params(labelbottom=False) \n",
    "\n",
    "scores = [saliency_pr, smoothgrad_pr, ]\n",
    "ax = plt.subplot(1,2,2)\n",
    "ax = tfomics.impress.box_violin_plot(scores, ylabel='AUPR', xlabel=names)\n",
    "plt.yticks([0.4, 0.5, 0.6, 0.7, 0.8, 0.9, 1.0], fontsize=12)\n",
    "ax.set_ybound([.35,1.05])\n",
    "#ax.tick_params(labelbottom=False) "
   ]
  },
  {
   "cell_type": "code",
   "execution_count": null,
   "metadata": {},
   "outputs": [],
   "source": []
  },
  {
   "cell_type": "code",
   "execution_count": null,
   "metadata": {},
   "outputs": [],
   "source": []
  },
  {
   "cell_type": "code",
   "execution_count": null,
   "metadata": {},
   "outputs": [],
   "source": [
    "a, b, c = np.random.randn(2), np.random.randn(2), np.random.randn(2)\n",
    "f = h5py.File(\"test.h5\", 'w')\n",
    "f.create_group('g1')\n",
    "f['g1'].create_dataset(name='a', data=a)\n",
    "f.create_group('g2')\n",
    "f['g2'].create_dataset(name='b', data=b)\n",
    "f['g2'].create_dataset(name='c', data=c)\n",
    "f.close()\n",
    "\n",
    "f = h5py.File(\"test.h5\", 'r')\n",
    "groups = f.keys()\n",
    "print(groups)\n",
    "for group in groups:\n",
    "    for key in f[group].keys():\n",
    "        print(f[group][key].name, f[group][key][:])\n",
    "f.close()\n",
    "!rm test.h5"
   ]
  },
  {
   "cell_type": "code",
   "execution_count": null,
   "metadata": {},
   "outputs": [],
   "source": [
    "print(a, b, c)"
   ]
  },
  {
   "cell_type": "code",
   "execution_count": null,
   "metadata": {},
   "outputs": [],
   "source": [
    "format(l2, \".0e\")"
   ]
  },
  {
   "cell_type": "code",
   "execution_count": null,
   "metadata": {},
   "outputs": [],
   "source": [
    "data = np.eye(4)[np.random.randint(0,4,(20,))].astype(np.int32)\n",
    "seq = pd.DataFrame(data=data, columns=list('ACGT'))"
   ]
  },
  {
   "cell_type": "code",
   "execution_count": null,
   "metadata": {},
   "outputs": [],
   "source": [
    "Logo(seq)"
   ]
  },
  {
   "cell_type": "code",
   "execution_count": null,
   "metadata": {},
   "outputs": [],
   "source": [
    "seq = pd.DataFrame(data=data[::-1, ::-1], columns=list('ACGT'))\n",
    "Logo(seq)"
   ]
  },
  {
   "cell_type": "code",
   "execution_count": null,
   "metadata": {
    "scrolled": false
   },
   "outputs": [],
   "source": [
    "Logo(\n",
    "    pd.DataFrame(data=data[::-1,:][:,::-1], columns=list('ACGT'))\n",
    ")"
   ]
  },
  {
   "cell_type": "code",
   "execution_count": null,
   "metadata": {},
   "outputs": [],
   "source": []
  },
  {
   "cell_type": "code",
   "execution_count": null,
   "metadata": {},
   "outputs": [],
   "source": []
  },
  {
   "cell_type": "code",
   "execution_count": null,
   "metadata": {},
   "outputs": [],
   "source": []
  },
  {
   "cell_type": "code",
   "execution_count": null,
   "metadata": {},
   "outputs": [],
   "source": []
  },
  {
   "cell_type": "code",
   "execution_count": null,
   "metadata": {},
   "outputs": [],
   "source": []
  },
  {
   "cell_type": "code",
   "execution_count": null,
   "metadata": {},
   "outputs": [],
   "source": []
  },
  {
   "cell_type": "code",
   "execution_count": null,
   "metadata": {},
   "outputs": [],
   "source": [
    "class EarlyStoppingCheckpoint(tfkc.EarlyStopping):\n",
    "    \"\"\"\n",
    "    This callback checkpoints the model at the early stopping epoch \n",
    "    without actually stopping. We can use this to put a marker on \n",
    "    the exact epoch where model training would have stoppedm *without* \n",
    "    actually stopping. \n",
    "    \n",
    "    This callback takes the same arguments as the keras.callbacks.EarlyStopping\n",
    "    callback. \n",
    "    \n",
    "    Documentation for the EarlyStopping callback follows.\n",
    "    ------------------------------------------------------\n",
    "    \n",
    "    \"\"\"\n",
    "    __doc__  = __doc__ + tfkc.EarlyStopping.__doc__\n",
    "    \n",
    "    def on_epoch_end(self, epoch, logs=None):\n",
    "        if self.stopped_epoch > 0:  ## the early stopping epoch has already been logged \n",
    "            return\n",
    "        else:\n",
    "            current = self.get_monitor_value(logs) ## get current value of monitored value. \n",
    "            if current is None:  ## the requested monitor quantity is not in the logs\n",
    "                return\n",
    "            \n",
    "            self.wait += 1\n",
    "            if self._is_improvement(current, self.best):\n",
    "                ## update the best seen value of the monitored metric.\n",
    "                self.best = current\n",
    "                \n",
    "                # get the best weights of the model \n",
    "                if self.restore_best_weights:\n",
    "                    self.best_weights = self.model.get_weights()\n",
    "            \n",
    "            # Only restart wait if we beat both the baseline and our previous best.\n",
    "            if self.baseline is None or self._is_improvement(current, self.baseline):\n",
    "                self.wait = 0\n",
    "        \n",
    "            # check to see if we have waited long enough ; if true, this is where the training would have stopped\n",
    "            if self.wait >= self.patience:\n",
    "                self.stopped_epoch = epoch\n",
    "                if self.restore_best_weights and self.best_weights is not None:\n",
    "                    # checkpoint the model \n",
    "                    self.model.save(\"early_stopping_ckpt\")\n",
    "                    \n",
    "                    if self.verbose:\n",
    "                        print('Epoch %05d: early stopping' % (self.stopped_epoch + 1))\n",
    "                        print('The best model weights from early stopping are checkpointed as - early_stopping_ckpt')"
   ]
  },
  {
   "cell_type": "code",
   "execution_count": null,
   "metadata": {
    "scrolled": false
   },
   "outputs": [],
   "source": [
    "# get data \n",
    "datadir = os.path.abspath(\"../data/\")\n",
    "traindata, validdata, testdata, model_test = _get_synthetic_data(datadir)\n",
    "\n",
    "# set up model\n",
    "model = get_model(bn=True, dropout1=0.2, dropout2=0.5)\n",
    "\n",
    "# compile model\n",
    "model.compile(\n",
    "            loss=tfk.losses.BinaryCrossentropy(), \n",
    "            optimizer=tfk.optimizers.Adam(1e-3),\n",
    "            metrics=[tfk.metrics.AUC(curve='PR', name='aupr'), tfk.metrics.AUC(curve='ROC', name='auroc')]\n",
    ")\n",
    "\n",
    "# fit model\n",
    "reduce_lr = tfk.callbacks.ReduceLROnPlateau(\n",
    "                                        monitor='val_auroc',\n",
    "                                        factor=0.2,\n",
    "                                        patience=4,\n",
    "                                        min_lr=1e-7,\n",
    "                                        mode='max',\n",
    "                                        verbose=1\n",
    "                                            )\n",
    "esckpt_callback = EarlyStoppingCheckpoint(\n",
    "                                    monitor='val_auroc',\n",
    "                                    patience=4,\n",
    "                                    verbose=1,\n",
    "                                    mode='max',\n",
    "                                    restore_best_weights=True\n",
    "                                        )\n",
    "callbacks = [reduce_lr, esckpt_callback]\n",
    "traindata = tf.data.Dataset.from_tensor_slices(traindata)\n",
    "validdata = tf.data.Dataset.from_tensor_slices(validdata)\n",
    "model.fit(\n",
    "        traindata.shuffle(10000).batch(32), \n",
    "        validation_data=validdata.shuffle(10000).batch(64),\n",
    "        epochs=100,\n",
    "        callbacks=callbacks\n",
    "        )"
   ]
  },
  {
   "cell_type": "code",
   "execution_count": null,
   "metadata": {
    "scrolled": false
   },
   "outputs": [],
   "source": [
    "help(esckpt_callback)"
   ]
  },
  {
   "cell_type": "code",
   "execution_count": null,
   "metadata": {},
   "outputs": [],
   "source": []
  },
  {
   "cell_type": "code",
   "execution_count": null,
   "metadata": {},
   "outputs": [],
   "source": [
    "file = h5py.File(\"data.h5\", \"w\",)\n",
    "file.create_dataset(name='x', data=x, compression='gzip')\n",
    "file.create_dataset(name='y', data=y, compression='gzip')\n",
    "file.close()\n",
    "del file"
   ]
  },
  {
   "cell_type": "code",
   "execution_count": null,
   "metadata": {},
   "outputs": [],
   "source": [
    "file = h5py.File(\"data.h5\", \"r\")\n",
    "print(file.keys())\n",
    "print(file['x'].shape)\n",
    "print(file['y'].shape)\n",
    "print(file['x'][:])\n",
    "print(file['y'][:])\n",
    "file.close()"
   ]
  },
  {
   "cell_type": "code",
   "execution_count": null,
   "metadata": {},
   "outputs": [],
   "source": [
    "help(file.create_dataset)"
   ]
  },
  {
   "cell_type": "code",
   "execution_count": null,
   "metadata": {},
   "outputs": [],
   "source": [
    "# file = open(\"commands.txt\", \"w\")\n",
    "# for l2 in ['1e-2', '1e-3', '1e-4', '1e-5', '1e-6']:\n",
    "#     for factor in ['1', '4', '8']:\n",
    "#         for type in ['deep', 'shallow']:\n",
    "#             file.write(f\"python task1_sub5_1_train.py --batch 32 --epochs 100 --start_trial 1 --end_trial 5 --lr 1e-3 --track_saliency --track_sg --track_intgrad --factor {factor} --type {type} --l2 {l2} \\n\")\n",
    "# for d1 in ['0.1', '0.2', '0.3', '0.5', '0.75']:\n",
    "#     for factor in ['1', '4', '8']:\n",
    "#         for type in ['deep', 'shallow']:\n",
    "#             file.write(f\"python task1_sub5_2_train.py --batch 32 --epochs 100 --start_trial 1 --end_trial 5 --lr 1e-3 --track_saliency --track_sg --track_intgrad --factor {factor} --type {type} --dropout1 {d1} \\n\")\n",
    "# file.close()"
   ]
  },
  {
   "cell_type": "code",
   "execution_count": null,
   "metadata": {},
   "outputs": [],
   "source": []
  }
 ],
 "metadata": {
  "kernelspec": {
   "display_name": "Python 3",
   "language": "python",
   "name": "python3"
  },
  "language_info": {
   "codemirror_mode": {
    "name": "ipython",
    "version": 3
   },
   "file_extension": ".py",
   "mimetype": "text/x-python",
   "name": "python",
   "nbconvert_exporter": "python",
   "pygments_lexer": "ipython3",
   "version": "3.8.5"
  }
 },
 "nbformat": 4,
 "nbformat_minor": 4
}
